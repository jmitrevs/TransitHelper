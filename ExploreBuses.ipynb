{
 "cells": [
  {
   "cell_type": "code",
   "execution_count": 1,
   "metadata": {},
   "outputs": [],
   "source": [
    "from TransitHelper.BusTrackerInterface import *\n",
    "import TransitHelper.Utilities as utils\n",
    "from TransitHelper.PredictTime import *"
   ]
  },
  {
   "cell_type": "code",
   "execution_count": null,
   "metadata": {},
   "outputs": [],
   "source": [
    "getDirections(\"X49\")"
   ]
  },
  {
   "cell_type": "code",
   "execution_count": null,
   "metadata": {},
   "outputs": [],
   "source": [
    "getStops(\"X49\", \"Northbound\")"
   ]
  },
  {
   "cell_type": "code",
   "execution_count": null,
   "metadata": {},
   "outputs": [],
   "source": [
    "getPredictionsStops(\"8373\")"
   ]
  },
  {
   "cell_type": "code",
   "execution_count": null,
   "metadata": {},
   "outputs": [],
   "source": [
    "getPredictionsStops(\"17404\")"
   ]
  },
  {
   "cell_type": "code",
   "execution_count": 2,
   "metadata": {
    "scrolled": false
   },
   "outputs": [
    {
     "data": {
      "text/plain": [
       "Trip(startStop=8373, endStop=17404, startTime=datetime.datetime(2020, 3, 15, 12, 16, 13), endTimeMin=datetime.datetime(2020, 3, 15, 12, 16, 12, 446667), endTimeMax=datetime.datetime(2020, 3, 15, 12, 20, 21, 553333), vidsMin=['8087'], vidsMax=['8087'])"
      ]
     },
     "execution_count": 2,
     "metadata": {},
     "output_type": "execute_result"
    }
   ],
   "source": [
    "predictSegmentTime((8373, 17404, set()))"
   ]
  },
  {
   "cell_type": "code",
   "execution_count": 3,
   "metadata": {},
   "outputs": [
    {
     "data": {
      "text/plain": [
       "Trip(startStop=894, endStop=910, startTime=datetime.datetime(2020, 3, 15, 12, 21, 8), endTimeMin=datetime.datetime(2020, 3, 15, 12, 20, 8, 663333), endTimeMax=datetime.datetime(2020, 3, 15, 12, 24, 19, 336667), vidsMin=['8107'], vidsMax=['8107'])"
      ]
     },
     "execution_count": 3,
     "metadata": {},
     "output_type": "execute_result"
    }
   ],
   "source": [
    "predictSegmentTime((894, 910, set()))"
   ]
  },
  {
   "cell_type": "code",
   "execution_count": null,
   "metadata": {
    "scrolled": false
   },
   "outputs": [],
   "source": [
    "getStops(\"72\", \"Eastbound\")"
   ]
  },
  {
   "cell_type": "code",
   "execution_count": null,
   "metadata": {},
   "outputs": [],
   "source": [
    "getPredictionsStops(\"894\")"
   ]
  },
  {
   "cell_type": "code",
   "execution_count": null,
   "metadata": {},
   "outputs": [],
   "source": [
    "getPredictionsStops(\"910\")"
   ]
  },
  {
   "cell_type": "code",
   "execution_count": 4,
   "metadata": {},
   "outputs": [
    {
     "data": {
      "text/plain": [
       "Trip(startStop=8373, endStop=17404, startTime=datetime.datetime(2020, 3, 15, 12, 16, 13), endTimeMin=datetime.datetime(2020, 3, 15, 12, 20, 13, 780000), endTimeMax=datetime.datetime(2020, 3, 15, 12, 43, 27, 753333), vidsMin=['8087', '8171'], vidsMax=['8087', 'SCHEDULE'])"
      ]
     },
     "execution_count": 4,
     "metadata": {},
     "output_type": "execute_result"
    }
   ],
   "source": [
    "predictTripTime(((8373, 17404, set()), (894, 910, set())))"
   ]
  },
  {
   "cell_type": "code",
   "execution_count": null,
   "metadata": {},
   "outputs": [],
   "source": [
    "getPatternsRoute(\"49\")"
   ]
  },
  {
   "cell_type": "code",
   "execution_count": null,
   "metadata": {},
   "outputs": [],
   "source": []
  },
  {
   "cell_type": "code",
   "execution_count": null,
   "metadata": {},
   "outputs": [],
   "source": []
  },
  {
   "cell_type": "code",
   "execution_count": null,
   "metadata": {},
   "outputs": [],
   "source": []
  },
  {
   "cell_type": "code",
   "execution_count": null,
   "metadata": {},
   "outputs": [],
   "source": []
  }
 ],
 "metadata": {
  "kernelspec": {
   "display_name": "Python 3",
   "language": "python",
   "name": "python3"
  },
  "language_info": {
   "codemirror_mode": {
    "name": "ipython",
    "version": 3
   },
   "file_extension": ".py",
   "mimetype": "text/x-python",
   "name": "python",
   "nbconvert_exporter": "python",
   "pygments_lexer": "ipython3",
   "version": "3.7.6"
  }
 },
 "nbformat": 4,
 "nbformat_minor": 4
}
